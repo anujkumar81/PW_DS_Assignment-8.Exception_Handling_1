{
 "cells": [
  {
   "cell_type": "code",
   "execution_count": null,
   "id": "300e0491-8a89-4ef2-8aad-4e5c1a896ca0",
   "metadata": {},
   "outputs": [],
   "source": [
    "# Question 1:\n",
    "'''what is an exception in python? Write the difference between Exceptions and syntax errors.'''\n",
    "# Answer:\n",
    "# Exceptin:\n",
    "'''Exceptions are runtime errors that occur while a program is executing. They can be caused by various factors such as invalid input, file not found, division by zero, etc. Exceptions are instances of classes that are derived from the built-in BaseException class. Examples of common exceptions include ValueError, TypeError, ZeroDivisionError, and FileNotFoundError.\n",
    "\n",
    "Exception handling involves using try, except, finally, and optionally, else blocks. This allows you to catch and handle exceptions gracefully, providing an alternative course of action when something unexpected occurs.'''\n",
    "\n",
    "# Syntax Errors:\n",
    "\"\"\"Syntax errors, also known as parsing errors, occur during the interpretation of your code before it's executed. They are the result of violating the rules of the Python language's syntax. Common examples include missing colons, mismatched parentheses, or invalid variable names.\n",
    "\n",
    "Syntax errors prevent the program from being executed altogether and must be fixed in the code before running the program. The Python interpreter will display a traceback with information about where the syntax error occurred.\"\"\""
   ]
  },
  {
   "cell_type": "code",
   "execution_count": null,
   "id": "ba9645bf-5836-499b-b9a0-7faa3f9b557a",
   "metadata": {},
   "outputs": [],
   "source": []
  },
  {
   "cell_type": "code",
   "execution_count": null,
   "id": "9a922ae6-ff2e-46c8-b035-300ae1e9e509",
   "metadata": {},
   "outputs": [],
   "source": [
    "# Question 2:\n",
    "'''what happens when an exception is not handled? explain with an example'''\n",
    "# Answer:\n",
    "'''When an exception is not handled in a program, it leads to an abrupt termination of the program's execution. The Python interpreter prints an error message known as a \"traceback\" that provides information about the type of exception that occurred and where it happened in the code. This traceback helps developers identify the cause of the exception and the specific line of code that triggered it.'''\n",
    "# Here's an example to illustrate what happens when an exception is not handled:\n",
    "\n",
    "def divide(x, y):\n",
    "    return x / y\n",
    "\n",
    "result = divide(10, 0)  # This will raise a ZeroDivisionError\n",
    "print(\"Result:\", result)\n"
   ]
  },
  {
   "cell_type": "code",
   "execution_count": null,
   "id": "f6067f84-9f0d-477b-bc4c-fad44ff26aad",
   "metadata": {},
   "outputs": [],
   "source": [
    "#In this example, the divide function attempts to divide the first argument x by the second argument y. However, the second argument is set to 0, which results in a division by zero error (ZeroDivisionError). Since the exception is not handled, the program will terminate with an error message similar to the following:\n",
    "Traceback (most recent call last):\n",
    "  File \"example.py\", line 4, in <module>\n",
    "    result = divide(10, 0)\n",
    "  File \"example.py\", line 2, in divide\n",
    "    return x / y\n",
    "ZeroDivisionError: division by zero\n"
   ]
  },
  {
   "cell_type": "code",
   "execution_count": null,
   "id": "cfee4bc6-5663-4de1-bc01-c7d5d0ae4970",
   "metadata": {},
   "outputs": [],
   "source": [
    "'''The traceback provides information about where the exception occurred (line 2 in the divide function) and what type of exception was raised (in this case, a ZeroDivisionError). The program execution halts at this point, and the subsequent print statement is not executed.\n",
    "If you want to prevent the program from abruptly terminating and provide a more controlled way to handle exceptions, you can use a try-except block to catch and handle the exception gracefully:'''\n",
    "def divide(x, y):\n",
    "    try:\n",
    "        return x / y\n",
    "    except ZeroDivisionError as e:\n",
    "        print(\"Error:\", e)\n",
    "        return None\n",
    "\n",
    "result = divide(10, 0)\n",
    "if result is not None:\n",
    "    print(\"Result:\", result)\n"
   ]
  },
  {
   "cell_type": "code",
   "execution_count": null,
   "id": "2dfd8bfc-1236-4bbd-9a68-e99aa2ecb0d0",
   "metadata": {},
   "outputs": [],
   "source": []
  },
  {
   "cell_type": "code",
   "execution_count": null,
   "id": "ca532772-6fad-44e2-ae08-49fab3fa1d7d",
   "metadata": {},
   "outputs": [],
   "source": [
    "# Question 3:\n",
    "\"\"\"which python statement are used to catch and handle exception? explain with an example.\"\"\"\n",
    "# Answer:\n",
    "'''In Python, you use the try-except statement to catch and handle exceptions. The try block contains the code that might raise an exception, and the except block contains the code that should be executed if the specified exception occurs. This construct allows you to gracefully handle exceptions and continue the program's execution, even in the presence of errors.\n",
    "\n",
    "Here's the general syntax of the try-except statement:'''\n",
    "try:\n",
    "    # Code that might raise an exception\n",
    "except ExceptionType as e:\n",
    "    # Code to handle the exception\n",
    "    \n",
    "    \n",
    "\"\"\"Here's an example that demonstrates how to use the try-except statement to catch and handle an exception:\"\"\"\n",
    "def divide(x, y):\n",
    "    try:\n",
    "        result = x / y\n",
    "        return result\n",
    "    except ZeroDivisionError as e:\n",
    "        print(\"Error:\", e)\n",
    "        return None\n",
    "\n",
    "numerator = 10\n",
    "denominator = 0\n",
    "\n",
    "result = divide(numerator, denominator)\n",
    "\n",
    "if result is not None:\n",
    "    print(\"Result:\", result)\n",
    "else:\n",
    "    print(\"Division could not be performed.\")\n"
   ]
  },
  {
   "cell_type": "code",
   "execution_count": null,
   "id": "2b8f36c5-608c-4397-9e5a-258f4efbcc1f",
   "metadata": {},
   "outputs": [],
   "source": []
  },
  {
   "cell_type": "code",
   "execution_count": 3,
   "id": "270472d3-8140-41b8-9afe-34e63451d3a8",
   "metadata": {},
   "outputs": [
    {
     "name": "stdout",
     "output_type": "stream",
     "text": [
      "Division successful\n",
      "Result: 5.0\n"
     ]
    }
   ],
   "source": [
    "# Question 4:\n",
    "'''Q4. Explain with an example:\n",
    "a. try and else\n",
    "b. finally\n",
    "c. raise'''\n",
    "# Answer:\n",
    "# a. try and else:\n",
    "\"\"\"The try block is used to enclose code that might raise an exception, and the else block is executed if no exception occurs within the try block. This is useful for performing actions when there are no exceptions. Here's an example:\"\"\"\n",
    "# Example:\n",
    "def divide(x, y):\n",
    "    try:\n",
    "        result = x / y\n",
    "    except ZeroDivisionError:\n",
    "        print(\"Error: Division by zero\")\n",
    "    else:\n",
    "        print(\"Division successful\")\n",
    "        return result\n",
    "\n",
    "numerator = 10\n",
    "denominator = 2\n",
    "\n",
    "result = divide(numerator, denominator)\n",
    "if result is not None:\n",
    "    print(\"Result:\", result)\n"
   ]
  },
  {
   "cell_type": "code",
   "execution_count": 4,
   "id": "4a437567-b931-495b-9ae6-c314146ae442",
   "metadata": {},
   "outputs": [
    {
     "name": "stdout",
     "output_type": "stream",
     "text": [
      "Error: Division by zero\n",
      "Cleanup and finalize\n"
     ]
    },
    {
     "ename": "UnboundLocalError",
     "evalue": "local variable 'result' referenced before assignment",
     "output_type": "error",
     "traceback": [
      "\u001b[0;31m---------------------------------------------------------------------------\u001b[0m",
      "\u001b[0;31mUnboundLocalError\u001b[0m                         Traceback (most recent call last)",
      "Cell \u001b[0;32mIn[4], line 15\u001b[0m\n\u001b[1;32m     12\u001b[0m numerator \u001b[38;5;241m=\u001b[39m \u001b[38;5;241m10\u001b[39m\n\u001b[1;32m     13\u001b[0m denominator \u001b[38;5;241m=\u001b[39m \u001b[38;5;241m0\u001b[39m\n\u001b[0;32m---> 15\u001b[0m result \u001b[38;5;241m=\u001b[39m \u001b[43mdivide\u001b[49m\u001b[43m(\u001b[49m\u001b[43mnumerator\u001b[49m\u001b[43m,\u001b[49m\u001b[43m \u001b[49m\u001b[43mdenominator\u001b[49m\u001b[43m)\u001b[49m\n\u001b[1;32m     16\u001b[0m \u001b[38;5;28mprint\u001b[39m(\u001b[38;5;124m\"\u001b[39m\u001b[38;5;124mResult:\u001b[39m\u001b[38;5;124m\"\u001b[39m, result)\n",
      "Cell \u001b[0;32mIn[4], line 10\u001b[0m, in \u001b[0;36mdivide\u001b[0;34m(x, y)\u001b[0m\n\u001b[1;32m      8\u001b[0m \u001b[38;5;28;01mfinally\u001b[39;00m:\n\u001b[1;32m      9\u001b[0m     \u001b[38;5;28mprint\u001b[39m(\u001b[38;5;124m\"\u001b[39m\u001b[38;5;124mCleanup and finalize\u001b[39m\u001b[38;5;124m\"\u001b[39m)\n\u001b[0;32m---> 10\u001b[0m     \u001b[38;5;28;01mreturn\u001b[39;00m \u001b[43mresult\u001b[49m\n",
      "\u001b[0;31mUnboundLocalError\u001b[0m: local variable 'result' referenced before assignment"
     ]
    }
   ],
   "source": [
    "# b. finally:\n",
    "# The finally block is executed regardless of whether an exception was raised or not. It's commonly used to ensure that cleanup code is executed, regardless of the outcome. Here's an example:\n",
    "def divide(x, y):\n",
    "    try:\n",
    "        result = x / y\n",
    "    except ZeroDivisionError:\n",
    "        print(\"Error: Division by zero\")\n",
    "    finally:\n",
    "        print(\"Cleanup and finalize\")\n",
    "        return result\n",
    "\n",
    "numerator = 10\n",
    "denominator = 0\n",
    "\n",
    "result = divide(numerator, denominator)\n",
    "print(\"Result:\", result)\n"
   ]
  },
  {
   "cell_type": "code",
   "execution_count": 5,
   "id": "c1327b26-3a6e-403b-a4ed-907ffc7799d1",
   "metadata": {},
   "outputs": [
    {
     "name": "stdin",
     "output_type": "stream",
     "text": [
      "Enter your age:  22\n"
     ]
    },
    {
     "name": "stdout",
     "output_type": "stream",
     "text": [
      "Access granted\n"
     ]
    }
   ],
   "source": [
    "# c. raise:\n",
    "# The raise statement is used to manually raise an exception. You can either raise a specific exception type or create your own custom exception. Here's an example:\n",
    "\n",
    "def check_age(age):\n",
    "    if age < 0:\n",
    "        raise ValueError(\"Age cannot be negative\")\n",
    "    elif age < 18:\n",
    "        raise ValueError(\"You must be at least 18 years old\")\n",
    "    else:\n",
    "        print(\"Access granted\")\n",
    "\n",
    "try:\n",
    "    user_age = int(input(\"Enter your age: \"))\n",
    "    check_age(user_age)\n",
    "except ValueError as e:\n",
    "    print(\"Error:\", e)\n"
   ]
  },
  {
   "cell_type": "code",
   "execution_count": null,
   "id": "444e9796-a7d3-4153-9e07-d642666cb00b",
   "metadata": {},
   "outputs": [],
   "source": []
  },
  {
   "cell_type": "code",
   "execution_count": 6,
   "id": "382144c9-00a2-464b-84f1-70e529403597",
   "metadata": {},
   "outputs": [
    {
     "name": "stdout",
     "output_type": "stream",
     "text": [
      "Error: The book 'Introduction to Python' is already checked out by Alice\n"
     ]
    }
   ],
   "source": [
    "# question 5:\n",
    "'''what are custom exception in python? why do we need custom exception? Explain with an example.'''\n",
    "#Answer:\n",
    "\n",
    "#Why do we need custom exceptions?\n",
    "#Using custom exceptions offers several benefits:\n",
    "\n",
    "'''Clarity: Custom exceptions provide clear and descriptive error messages, making it easier to understand the cause of an exception and facilitating debugging.\n",
    "\n",
    "Organization: By categorizing different exceptions under distinct custom classes, you can better organize your codebase and exception handling.\n",
    "\n",
    "Specificity: Custom exceptions can be designed to encapsulate specific error conditions that are unique to your application, allowing for more precise error handling.\n",
    "\n",
    "Modularity: Custom exceptions can be reused across different parts of your application, promoting code reuse and maintainability.'''\n",
    "\n",
    "# Example of Custom Exception:\n",
    "\n",
    "#Let's say we're building a library management system, and we want to handle situations where a user tries to borrow a book that's already checked out. Instead of using a generic exception like ValueError or Exception, we can define a custom exception named BookAlreadyCheckedOutError.\n",
    "\n",
    "class BookAlreadyCheckedOutError(Exception):\n",
    "    def __init__(self, book_title, borrower_name):\n",
    "        self.book_title = book_title\n",
    "        self.borrower_name = borrower_name\n",
    "        self.message = f\"The book '{self.book_title}' is already checked out by {self.borrower_name}\"\n",
    "\n",
    "def borrow_book(book_status, borrower_name):\n",
    "    if book_status == \"checked_out\":\n",
    "        raise BookAlreadyCheckedOutError(\"Introduction to Python\", borrower_name)\n",
    "    else:\n",
    "        print(\"Book borrowed successfully\")\n",
    "\n",
    "try:\n",
    "    book_status = \"checked_out\"\n",
    "    borrower_name = \"Alice\"\n",
    "    borrow_book(book_status, borrower_name)\n",
    "except BookAlreadyCheckedOutError as e:\n",
    "    print(\"Error:\", e.message)\n"
   ]
  },
  {
   "cell_type": "code",
   "execution_count": null,
   "id": "81ae8a7c-ef6c-467b-a8b4-aec03d2b0703",
   "metadata": {},
   "outputs": [],
   "source": []
  },
  {
   "cell_type": "code",
   "execution_count": 7,
   "id": "a922860f-0c82-4dc3-9d44-4c43fdffd938",
   "metadata": {},
   "outputs": [
    {
     "name": "stdin",
     "output_type": "stream",
     "text": [
      "Enter a number:  8227\n"
     ]
    },
    {
     "name": "stdout",
     "output_type": "stream",
     "text": [
      "Processing successful\n"
     ]
    }
   ],
   "source": [
    "# Question 6:\n",
    "\"\"\"Create an exception class. use this class to handle an exception.\"\"\"\n",
    "\n",
    "#Answer:\n",
    "class NegativeValueError(Exception):\n",
    "    def __init__(self, value):\n",
    "        self.value = value\n",
    "        self.message = f\"Negative values are not allowed: {self.value}\"\n",
    "\n",
    "def process_positive_number(number):\n",
    "    if number < 0:\n",
    "        raise NegativeValueError(number)\n",
    "    else:\n",
    "        print(\"Processing successful\")\n",
    "\n",
    "try:\n",
    "    user_input = int(input(\"Enter a number: \"))\n",
    "    process_positive_number(user_input)\n",
    "except NegativeValueError as e:\n",
    "    print(\"Error:\", e.message)\n"
   ]
  },
  {
   "cell_type": "code",
   "execution_count": null,
   "id": "16234405-3d24-49af-a475-12aa4f123402",
   "metadata": {},
   "outputs": [],
   "source": []
  },
  {
   "cell_type": "code",
   "execution_count": null,
   "id": "5ad5c5ef-7123-4d57-8cda-b7af9e369f16",
   "metadata": {},
   "outputs": [],
   "source": []
  },
  {
   "cell_type": "code",
   "execution_count": null,
   "id": "c5220b41-01b3-4c65-81c2-8cb939c9e80d",
   "metadata": {},
   "outputs": [],
   "source": []
  }
 ],
 "metadata": {
  "kernelspec": {
   "display_name": "Python 3 (ipykernel)",
   "language": "python",
   "name": "python3"
  },
  "language_info": {
   "codemirror_mode": {
    "name": "ipython",
    "version": 3
   },
   "file_extension": ".py",
   "mimetype": "text/x-python",
   "name": "python",
   "nbconvert_exporter": "python",
   "pygments_lexer": "ipython3",
   "version": "3.10.8"
  }
 },
 "nbformat": 4,
 "nbformat_minor": 5
}
